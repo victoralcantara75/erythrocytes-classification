{
  "nbformat": 4,
  "nbformat_minor": 0,
  "metadata": {
    "colab": {
      "name": "TCC-2.ipynb",
      "provenance": [],
      "collapsed_sections": [],
      "authorship_tag": "ABX9TyMyx5KDHzKJ65nSekZNAzCS",
      "include_colab_link": true
    },
    "kernelspec": {
      "name": "python3",
      "display_name": "Python 3"
    },
    "accelerator": "GPU"
  },
  "cells": [
    {
      "cell_type": "markdown",
      "metadata": {
        "id": "view-in-github",
        "colab_type": "text"
      },
      "source": [
        "<a href=\"https://colab.research.google.com/github/victoralcantara75/erythrocytes-classification/blob/resnet/TCC_2.ipynb\" target=\"_parent\"><img src=\"https://colab.research.google.com/assets/colab-badge.svg\" alt=\"Open In Colab\"/></a>"
      ]
    },
    {
      "cell_type": "code",
      "metadata": {
        "id": "WeBHdOx21G22"
      },
      "source": [
        "#math\n",
        "import numpy as np\n",
        "import sklearn\n",
        "import skimage\n",
        "import sklearn.model_selection\n",
        "\n",
        "#ts and keras\n",
        "import tensorflow as tf \n",
        "from tensorflow import keras\n",
        "from tensorflow.keras.preprocessing import image\n",
        "from tensorflow.keras.applications.mobilenet import preprocess_input\n",
        "from tensorflow.keras.applications.resnet50 import ResNet50\n",
        "from keras.preprocessing.image import ImageDataGenerator\n",
        "\n",
        "#dimensionality\n",
        "from sklearn.decomposition import PCA\n",
        "\n",
        "#classificators\n",
        "from sklearn.svm import SVC\n",
        "from sklearn import naive_bayes\n",
        "\n",
        "#visualization\n",
        "import matplotlib.pyplot as plt\n",
        "from sklearn.metrics import classification_report\n",
        "from sklearn.metrics import accuracy_score\n",
        "\n",
        "#utils\n",
        "import os\n",
        "import imageio\n",
        "from datetime import datetime"
      ],
      "execution_count": 125,
      "outputs": []
    },
    {
      "cell_type": "code",
      "metadata": {
        "id": "POrVE1u93Zns",
        "outputId": "44de5f7c-a107-46b8-b426-0012ff810708",
        "colab": {
          "base_uri": "https://localhost:8080/"
        }
      },
      "source": [
        "#dataset\n",
        "!git clone https://github.com/victoralcantara75/train-test-erythrocytes.git"
      ],
      "execution_count": 126,
      "outputs": [
        {
          "output_type": "stream",
          "text": [
            "fatal: destination path 'train-test-erythrocytes' already exists and is not an empty directory.\n"
          ],
          "name": "stdout"
        }
      ]
    },
    {
      "cell_type": "code",
      "metadata": {
        "id": "nCt_jyqMaaCR"
      },
      "source": [
        "classes = [\"circular\", \"falciforme\", \"outras\"]\n",
        "classificators = [\"svm\", \"bayes\"]\n",
        "batch = 16\n",
        "epochs = 30\n",
        "opt = 'adam'\n",
        "lr = 0.001"
      ],
      "execution_count": 127,
      "outputs": []
    },
    {
      "cell_type": "code",
      "metadata": {
        "id": "36RMZfSnUgR_"
      },
      "source": [
        "def loadDir(round):\n",
        "  train_dir = './train-test-erythrocytes/dataset/5-fold/round_'+str(round)+'/train'\n",
        "  test_dir = './train-test-erythrocytes/dataset/5-fold/round_'+str(round)+'/test'\n",
        "  return train_dir, test_dir"
      ],
      "execution_count": 128,
      "outputs": []
    },
    {
      "cell_type": "code",
      "metadata": {
        "id": "NtCpCaf_LVl_"
      },
      "source": [
        "def createSaveFile():\n",
        "  dir = \"resnet/\"\n",
        "  if not(os.path.isdir(dir)):\n",
        "    os.mkdir(dir)\n",
        "\n",
        "  today = datetime.today()\n",
        "  path = dir + str(today) + \".txt\" \n",
        "\n",
        "  saveFile = open(path, 'a')\n",
        "  return saveFile"
      ],
      "execution_count": 129,
      "outputs": []
    },
    {
      "cell_type": "code",
      "metadata": {
        "id": "eJQmLKssYaUW"
      },
      "source": [
        "def createModel():\n",
        "\n",
        "  base_model = ResNet50(weights='imagenet', include_top=True, input_shape=(224, 224, 3))\n",
        "  vector = base_model.get_layer(\"avg_pool\").output\n",
        "  model = tf.keras.Model(base_model.input, vector)\n",
        "\n",
        "  return model"
      ],
      "execution_count": 130,
      "outputs": []
    },
    {
      "cell_type": "code",
      "metadata": {
        "id": "Zqo-LLmRyERH"
      },
      "source": [
        "def toArray(X_list_train, Y_list_train, X_list_test, Y_list_test):\n",
        "  train_imgs = np.asarray(X_list_train, dtype=np.float32)\n",
        "  train_labels = np.asarray(Y_list_train, dtype=np.float32)\n",
        "\n",
        "  test_imgs = np.asarray(X_list_test, dtype=np.float32)\n",
        "  test_labels = np.asarray(Y_list_test, dtype=np.float32)\n",
        "\n",
        "  return train_imgs, train_labels, test_imgs, test_labels\n"
      ],
      "execution_count": 131,
      "outputs": []
    },
    {
      "cell_type": "code",
      "metadata": {
        "id": "cne2pnAZpSl_"
      },
      "source": [
        "def extract_features_test(path, model):\n",
        "  print('extracting features')\n",
        "  x_list = []\n",
        "  y_list = []\n",
        "\n",
        "  for label in range(3):    \n",
        "    folder_path = os.path.join(path, classes[label])\n",
        "    for file in os.listdir(folder_path):    \n",
        "        file_path = os.path.join(folder_path, file)\n",
        "        \n",
        "        if not(file.endswith(\".jpg\")):\n",
        "            continue\n",
        "        \n",
        "        # load image\n",
        "        img = image.load_img(file_path, target_size=(224,224))\n",
        "        # convert image to numpy array\n",
        "        img_arr = image.img_to_array(img)\n",
        "        # add 1 more dimension\n",
        "        img_arr_b = np.expand_dims(img_arr, axis=0)\n",
        "        # preprocess image\n",
        "        input_img = preprocess_input(img_arr_b)\n",
        "        # extract feature\n",
        "        features = model.predict(input_img)\n",
        "\n",
        "        x_list.append(features.ravel())\n",
        "        y_list.append(label)\n",
        "\n",
        "  return x_list, y_list"
      ],
      "execution_count": 132,
      "outputs": []
    },
    {
      "cell_type": "code",
      "metadata": {
        "id": "fYEYax2fKtYK"
      },
      "source": [
        "def extract_features_train(path, model):\n",
        "  print('extracting features')\n",
        "  x_list = []\n",
        "  y_list = []\n",
        "\n",
        "  for label in range(3):    \n",
        "    folder_path = os.path.join(path, classes[label])\n",
        "    for file in os.listdir(folder_path):    \n",
        "        file_path = os.path.join(folder_path, file)\n",
        "        \n",
        "        if not(file.endswith(\".jpg\")):\n",
        "            continue\n",
        "        \n",
        "        # load image\n",
        "        img = image.load_img(file_path, target_size=(224,224))\n",
        "        # convert image to numpy array\n",
        "        img_arr = image.img_to_array(img)\n",
        "        # add 1 more dimension\n",
        "        img_arr_b = np.expand_dims(img_arr, axis=0)\n",
        "        # preprocess image\n",
        "        input_img = preprocess_input(img_arr_b)\n",
        "        #data augmentation\n",
        "        da = []\n",
        "        img_vertical_flip = np.flipud(input_img)\n",
        "        img_horizontal_flip = np.fliplr(input_img)\n",
        "        da.append(input_img)\n",
        "        da.append(img_vertical_flip)\n",
        "        da.append(img_horizontal_flip)\n",
        "        # extract feature\n",
        "        for data in da:\n",
        "          features = model.predict(data)\n",
        "          x_list.append(features.ravel())\n",
        "          y_list.append(label)\n",
        "\n",
        "  return x_list, y_list"
      ],
      "execution_count": 133,
      "outputs": []
    },
    {
      "cell_type": "code",
      "metadata": {
        "id": "z19EBgh3yozp"
      },
      "source": [
        "def reduct_features(imgs):\n",
        "  print('reducting features')\n",
        "  pca = PCA(n_components=3)\n",
        "  pca.fit(imgs)\n",
        "  reduc_features = pca.transform(imgs)\n",
        "  return reduc_features\n"
      ],
      "execution_count": 134,
      "outputs": []
    },
    {
      "cell_type": "code",
      "metadata": {
        "id": "Dc6_J0QY61XU"
      },
      "source": [
        "def classificate(name, clf, accs, train_features, train_labels, test_features, test_labels, saveFile):\n",
        "  clf.fit(train_features, train_labels)\n",
        "  preds = clf.predict(test_features)\n",
        "\n",
        "  report = classification_report(test_labels, preds, target_names=classes, output_dict=True)\n",
        "  accs.append(report['accuracy'])\n",
        "  print(\"Accuracy: \", report['accuracy'])\n",
        "  saveFile.write(name + '\\n')\n",
        "  saveFile.write(classification_report(test_labels, preds, target_names=classes))\n",
        "  return accs"
      ],
      "execution_count": 138,
      "outputs": []
    },
    {
      "cell_type": "code",
      "metadata": {
        "id": "6ZmZH53BOe45"
      },
      "source": [
        "def svm_grid_search(C, kernel, train_X, train_Y):\n",
        "    accuracy_score_list = []\n",
        "    \n",
        "    for c in C:\n",
        "        # Model training\n",
        "        svmClassifier = SVC(C = c, kernel = kernel)\n",
        "        svmClassifier.fit(train_X, train_Y.ravel())\n",
        "        # Prediction on test set\n",
        "        pred_y = svmClassifier.predict(train_X)\n",
        "        # Accuracy\n",
        "        accuracy = accuracy_score(train_Y, pred_y)\n",
        "        accuracy_score_list.append(accuracy)\n",
        "        print('Regularization parameters: ', c, 'Accuracy', accuracy)\n",
        "    \n",
        "    max_accurarcy_id = accuracy_score_list.index(max(accuracy_score_list))\n",
        "    return C[max_accurarcy_id] "
      ],
      "execution_count": 136,
      "outputs": []
    },
    {
      "cell_type": "code",
      "metadata": {
        "id": "caqnWEnCXw0B",
        "outputId": "21e78926-5311-4078-c175-896c9fe1ed51",
        "colab": {
          "base_uri": "https://localhost:8080/"
        }
      },
      "source": [
        "accsSVM = []\n",
        "accsBayes = []\n",
        "model = createModel()\n",
        "\n",
        "saveFile = createSaveFile()\n",
        "\n",
        "for i in range (1, 6):\n",
        "  \n",
        "  print(\"ROUND \", i)\n",
        "\n",
        "  train_dir, test_dir = loadDir(i)\n",
        "\n",
        "  X_list_train, Y_list_train = extract_features_train(train_dir, model)\n",
        "  X_list_test, Y_list_test = extract_features_test(test_dir, model)\n",
        "\n",
        "  train_imgs, train_labels, test_imgs, test_labels = toArray(X_list_train, Y_list_train, X_list_test, Y_list_test)\n",
        "\n",
        "  print(\"train/test images shape\")\n",
        "  print(train_imgs.shape)\n",
        "  print(test_imgs.shape)\n",
        "\n",
        "  reduc_features_train = reduct_features(train_imgs)\n",
        "  reduc_features_test = reduct_features(test_imgs)\n",
        "\n",
        "  print(\"reduc train/test images shape\")\n",
        "  print(reduc_features_train.shape)\n",
        "  print(reduc_features_test.shape)\n",
        "\n",
        "  # C, kernel = [0.1 * i for i in range(1, 30)], 'linear'\n",
        "  # opt_c = svm_grid_search(C, kernel, reduc_features_train, train_labels)\n",
        "\n",
        "  # clf = SVC(C= opt_c, kernel= 'linear')\n",
        "  for clfs in classificators:\n",
        "\n",
        "    if clfs == \"svm\":\n",
        "      clf = SVC(C = 2.9000000000000004, kernel= 'linear')\n",
        "      classificate(clfs, clf, accsSVM, reduc_features_train, train_labels, reduc_features_test, test_labels, saveFile)\n",
        "    if clfs == \"bayes\":\n",
        "      clf = naive_bayes.GaussianNB()\n",
        "      classificate(clfs, clf, accsBayes, reduc_features_train, train_labels, reduc_features_test, test_labels, saveFile)\n",
        "    \n",
        "\n",
        "print(\"Result SVM: \", np.mean(accsSVM))\n",
        "print(\"Result Bayes: \", np.mean(accsBayes))\n",
        "\n",
        "saveFile.write(\"Result SVM: \"+ str(np.mean(accsSVM)))\n",
        "saveFile.write(\"Result Bayes: \"+ str(np.mean(accsBayes)))\n",
        "\n",
        "saveFile.close()"
      ],
      "execution_count": 137,
      "outputs": [
        {
          "output_type": "stream",
          "text": [
            "ROUND  1\n",
            "extracting features\n",
            "extracting features\n",
            "train/test images shape\n",
            "(1500, 2048)\n",
            "(126, 2048)\n",
            "reducting features\n",
            "reducting features\n",
            "reduc train/test images shape\n",
            "(1500, 3)\n",
            "(126, 3)\n",
            "Accuracy:  0.5\n",
            "Accuracy:  0.5873015873015873\n",
            "ROUND  2\n",
            "extracting features\n",
            "extracting features\n",
            "train/test images shape\n",
            "(1503, 2048)\n",
            "(125, 2048)\n",
            "reducting features\n",
            "reducting features\n",
            "reduc train/test images shape\n",
            "(1503, 3)\n",
            "(125, 3)\n",
            "Accuracy:  0.448\n",
            "Accuracy:  0.44\n",
            "ROUND  3\n",
            "extracting features\n",
            "extracting features\n",
            "train/test images shape\n",
            "(1503, 2048)\n",
            "(125, 2048)\n",
            "reducting features\n",
            "reducting features\n",
            "reduc train/test images shape\n",
            "(1503, 3)\n",
            "(125, 3)\n",
            "Accuracy:  0.48\n",
            "Accuracy:  0.496\n",
            "ROUND  4\n",
            "extracting features\n",
            "extracting features\n",
            "train/test images shape\n",
            "(1503, 2048)\n",
            "(125, 2048)\n",
            "reducting features\n",
            "reducting features\n",
            "reduc train/test images shape\n",
            "(1503, 3)\n",
            "(125, 3)\n",
            "Accuracy:  0.456\n",
            "Accuracy:  0.512\n",
            "ROUND  5\n",
            "extracting features\n",
            "extracting features\n",
            "train/test images shape\n",
            "(1503, 2048)\n",
            "(125, 2048)\n",
            "reducting features\n",
            "reducting features\n",
            "reduc train/test images shape\n",
            "(1503, 3)\n",
            "(125, 3)\n",
            "Accuracy:  0.512\n",
            "Accuracy:  0.616\n",
            "Result SVM:  0.47919999999999996\n",
            "Result Bayes:  0.5302603174603175\n"
          ],
          "name": "stdout"
        }
      ]
    }
  ]
}